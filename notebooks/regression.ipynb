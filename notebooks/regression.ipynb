{
 "cells": [
  {
   "cell_type": "code",
   "execution_count": 85,
   "metadata": {},
   "outputs": [],
   "source": [
    "import pandas as pd\n",
    "import numpy as np\n",
    "import matplotlib.pyplot as plt\n",
    "from sklearn.model_selection import train_test_split\n",
    "import statsmodels.api as sn\n",
    "import scipy"
   ]
  },
  {
   "cell_type": "code",
   "execution_count": 50,
   "metadata": {},
   "outputs": [],
   "source": [
    "df = pd.read_csv(\"../Data/EPL_Soccer_MLR_LR.csv\")"
   ]
  },
  {
   "cell_type": "code",
   "execution_count": 51,
   "metadata": {},
   "outputs": [
    {
     "name": "stdout",
     "output_type": "stream",
     "text": [
      "<class 'pandas.core.frame.DataFrame'>\n",
      "RangeIndex: 202 entries, 0 to 201\n",
      "Data columns (total 13 columns):\n",
      " #   Column                  Non-Null Count  Dtype  \n",
      "---  ------                  --------------  -----  \n",
      " 0   PlayerName              202 non-null    object \n",
      " 1   Club                    202 non-null    object \n",
      " 2   DistanceCovered(InKms)  202 non-null    float64\n",
      " 3   Goals                   202 non-null    float64\n",
      " 4   MinutestoGoalRatio      202 non-null    float64\n",
      " 5   ShotsPerGame            202 non-null    float64\n",
      " 6   AgentCharges            202 non-null    int64  \n",
      " 7   BMI                     202 non-null    float64\n",
      " 8   Cost                    202 non-null    float64\n",
      " 9   PreviousClubCost        202 non-null    float64\n",
      " 10  Height                  202 non-null    float64\n",
      " 11  Weight                  202 non-null    float64\n",
      " 12  Score                   202 non-null    float64\n",
      "dtypes: float64(10), int64(1), object(2)\n",
      "memory usage: 20.6+ KB\n"
     ]
    }
   ],
   "source": [
    "df.info()"
   ]
  },
  {
   "cell_type": "code",
   "execution_count": 52,
   "metadata": {},
   "outputs": [
    {
     "data": {
      "text/html": [
       "<div>\n",
       "<style scoped>\n",
       "    .dataframe tbody tr th:only-of-type {\n",
       "        vertical-align: middle;\n",
       "    }\n",
       "\n",
       "    .dataframe tbody tr th {\n",
       "        vertical-align: top;\n",
       "    }\n",
       "\n",
       "    .dataframe thead th {\n",
       "        text-align: right;\n",
       "    }\n",
       "</style>\n",
       "<table border=\"1\" class=\"dataframe\">\n",
       "  <thead>\n",
       "    <tr style=\"text-align: right;\">\n",
       "      <th></th>\n",
       "      <th>count</th>\n",
       "      <th>mean</th>\n",
       "      <th>std</th>\n",
       "      <th>min</th>\n",
       "      <th>25%</th>\n",
       "      <th>50%</th>\n",
       "      <th>75%</th>\n",
       "      <th>max</th>\n",
       "    </tr>\n",
       "  </thead>\n",
       "  <tbody>\n",
       "    <tr>\n",
       "      <th>DistanceCovered(InKms)</th>\n",
       "      <td>202.0</td>\n",
       "      <td>4.718614</td>\n",
       "      <td>0.457976</td>\n",
       "      <td>3.80</td>\n",
       "      <td>4.3725</td>\n",
       "      <td>4.755</td>\n",
       "      <td>5.030</td>\n",
       "      <td>6.72</td>\n",
       "    </tr>\n",
       "    <tr>\n",
       "      <th>Goals</th>\n",
       "      <td>202.0</td>\n",
       "      <td>7.108663</td>\n",
       "      <td>1.800549</td>\n",
       "      <td>3.30</td>\n",
       "      <td>5.9000</td>\n",
       "      <td>6.850</td>\n",
       "      <td>8.275</td>\n",
       "      <td>14.30</td>\n",
       "    </tr>\n",
       "    <tr>\n",
       "      <th>MinutestoGoalRatio</th>\n",
       "      <td>202.0</td>\n",
       "      <td>43.091584</td>\n",
       "      <td>3.662989</td>\n",
       "      <td>35.90</td>\n",
       "      <td>40.6000</td>\n",
       "      <td>43.500</td>\n",
       "      <td>45.575</td>\n",
       "      <td>59.70</td>\n",
       "    </tr>\n",
       "    <tr>\n",
       "      <th>ShotsPerGame</th>\n",
       "      <td>202.0</td>\n",
       "      <td>14.566337</td>\n",
       "      <td>1.362451</td>\n",
       "      <td>11.60</td>\n",
       "      <td>13.5000</td>\n",
       "      <td>14.700</td>\n",
       "      <td>15.575</td>\n",
       "      <td>19.20</td>\n",
       "    </tr>\n",
       "    <tr>\n",
       "      <th>AgentCharges</th>\n",
       "      <td>202.0</td>\n",
       "      <td>76.876238</td>\n",
       "      <td>47.501239</td>\n",
       "      <td>8.00</td>\n",
       "      <td>41.2500</td>\n",
       "      <td>65.500</td>\n",
       "      <td>97.000</td>\n",
       "      <td>234.00</td>\n",
       "    </tr>\n",
       "    <tr>\n",
       "      <th>BMI</th>\n",
       "      <td>202.0</td>\n",
       "      <td>22.955891</td>\n",
       "      <td>2.863933</td>\n",
       "      <td>16.75</td>\n",
       "      <td>21.0825</td>\n",
       "      <td>22.720</td>\n",
       "      <td>24.465</td>\n",
       "      <td>34.42</td>\n",
       "    </tr>\n",
       "    <tr>\n",
       "      <th>Cost</th>\n",
       "      <td>202.0</td>\n",
       "      <td>69.021782</td>\n",
       "      <td>32.565333</td>\n",
       "      <td>28.00</td>\n",
       "      <td>43.8500</td>\n",
       "      <td>58.600</td>\n",
       "      <td>90.350</td>\n",
       "      <td>200.80</td>\n",
       "    </tr>\n",
       "    <tr>\n",
       "      <th>PreviousClubCost</th>\n",
       "      <td>202.0</td>\n",
       "      <td>64.873713</td>\n",
       "      <td>13.070197</td>\n",
       "      <td>34.36</td>\n",
       "      <td>54.6675</td>\n",
       "      <td>63.035</td>\n",
       "      <td>74.750</td>\n",
       "      <td>106.00</td>\n",
       "    </tr>\n",
       "    <tr>\n",
       "      <th>Height</th>\n",
       "      <td>202.0</td>\n",
       "      <td>180.103960</td>\n",
       "      <td>9.734494</td>\n",
       "      <td>148.90</td>\n",
       "      <td>174.0000</td>\n",
       "      <td>179.700</td>\n",
       "      <td>186.175</td>\n",
       "      <td>209.40</td>\n",
       "    </tr>\n",
       "    <tr>\n",
       "      <th>Weight</th>\n",
       "      <td>202.0</td>\n",
       "      <td>75.008168</td>\n",
       "      <td>13.925574</td>\n",
       "      <td>37.80</td>\n",
       "      <td>66.5250</td>\n",
       "      <td>74.400</td>\n",
       "      <td>84.125</td>\n",
       "      <td>123.20</td>\n",
       "    </tr>\n",
       "    <tr>\n",
       "      <th>Score</th>\n",
       "      <td>202.0</td>\n",
       "      <td>13.507426</td>\n",
       "      <td>6.189826</td>\n",
       "      <td>5.63</td>\n",
       "      <td>8.5450</td>\n",
       "      <td>11.650</td>\n",
       "      <td>18.080</td>\n",
       "      <td>35.52</td>\n",
       "    </tr>\n",
       "  </tbody>\n",
       "</table>\n",
       "</div>"
      ],
      "text/plain": [
       "                        count        mean        std     min       25%  \\\n",
       "DistanceCovered(InKms)  202.0    4.718614   0.457976    3.80    4.3725   \n",
       "Goals                   202.0    7.108663   1.800549    3.30    5.9000   \n",
       "MinutestoGoalRatio      202.0   43.091584   3.662989   35.90   40.6000   \n",
       "ShotsPerGame            202.0   14.566337   1.362451   11.60   13.5000   \n",
       "AgentCharges            202.0   76.876238  47.501239    8.00   41.2500   \n",
       "BMI                     202.0   22.955891   2.863933   16.75   21.0825   \n",
       "Cost                    202.0   69.021782  32.565333   28.00   43.8500   \n",
       "PreviousClubCost        202.0   64.873713  13.070197   34.36   54.6675   \n",
       "Height                  202.0  180.103960   9.734494  148.90  174.0000   \n",
       "Weight                  202.0   75.008168  13.925574   37.80   66.5250   \n",
       "Score                   202.0   13.507426   6.189826    5.63    8.5450   \n",
       "\n",
       "                            50%      75%     max  \n",
       "DistanceCovered(InKms)    4.755    5.030    6.72  \n",
       "Goals                     6.850    8.275   14.30  \n",
       "MinutestoGoalRatio       43.500   45.575   59.70  \n",
       "ShotsPerGame             14.700   15.575   19.20  \n",
       "AgentCharges             65.500   97.000  234.00  \n",
       "BMI                      22.720   24.465   34.42  \n",
       "Cost                     58.600   90.350  200.80  \n",
       "PreviousClubCost         63.035   74.750  106.00  \n",
       "Height                  179.700  186.175  209.40  \n",
       "Weight                   74.400   84.125  123.20  \n",
       "Score                    11.650   18.080   35.52  "
      ]
     },
     "execution_count": 52,
     "metadata": {},
     "output_type": "execute_result"
    }
   ],
   "source": [
    "df.describe().T"
   ]
  },
  {
   "cell_type": "code",
   "execution_count": 53,
   "metadata": {},
   "outputs": [
    {
     "data": {
      "text/plain": [
       "(202, 13)"
      ]
     },
     "execution_count": 53,
     "metadata": {},
     "output_type": "execute_result"
    }
   ],
   "source": [
    "df.shape"
   ]
  },
  {
   "cell_type": "code",
   "execution_count": 54,
   "metadata": {},
   "outputs": [
    {
     "data": {
      "text/html": [
       "<div>\n",
       "<style scoped>\n",
       "    .dataframe tbody tr th:only-of-type {\n",
       "        vertical-align: middle;\n",
       "    }\n",
       "\n",
       "    .dataframe tbody tr th {\n",
       "        vertical-align: top;\n",
       "    }\n",
       "\n",
       "    .dataframe thead th {\n",
       "        text-align: right;\n",
       "    }\n",
       "</style>\n",
       "<table border=\"1\" class=\"dataframe\">\n",
       "  <thead>\n",
       "    <tr style=\"text-align: right;\">\n",
       "      <th></th>\n",
       "      <th>DistanceCovered(InKms)</th>\n",
       "      <th>Goals</th>\n",
       "      <th>MinutestoGoalRatio</th>\n",
       "      <th>ShotsPerGame</th>\n",
       "      <th>AgentCharges</th>\n",
       "      <th>BMI</th>\n",
       "      <th>Cost</th>\n",
       "      <th>PreviousClubCost</th>\n",
       "      <th>Height</th>\n",
       "      <th>Weight</th>\n",
       "      <th>Score</th>\n",
       "    </tr>\n",
       "  </thead>\n",
       "  <tbody>\n",
       "    <tr>\n",
       "      <th>DistanceCovered(InKms)</th>\n",
       "      <td>1.000000</td>\n",
       "      <td>0.147098</td>\n",
       "      <td>0.924964</td>\n",
       "      <td>0.888800</td>\n",
       "      <td>0.250865</td>\n",
       "      <td>0.299471</td>\n",
       "      <td>-0.403004</td>\n",
       "      <td>0.550975</td>\n",
       "      <td>0.358854</td>\n",
       "      <td>0.403743</td>\n",
       "      <td>-0.493512</td>\n",
       "    </tr>\n",
       "    <tr>\n",
       "      <th>Goals</th>\n",
       "      <td>0.147098</td>\n",
       "      <td>1.000000</td>\n",
       "      <td>0.153333</td>\n",
       "      <td>0.134721</td>\n",
       "      <td>0.131973</td>\n",
       "      <td>0.177032</td>\n",
       "      <td>0.137131</td>\n",
       "      <td>0.102734</td>\n",
       "      <td>0.076958</td>\n",
       "      <td>0.155844</td>\n",
       "      <td>0.108114</td>\n",
       "    </tr>\n",
       "    <tr>\n",
       "      <th>MinutestoGoalRatio</th>\n",
       "      <td>0.924964</td>\n",
       "      <td>0.153333</td>\n",
       "      <td>1.000000</td>\n",
       "      <td>0.950757</td>\n",
       "      <td>0.258240</td>\n",
       "      <td>0.320527</td>\n",
       "      <td>-0.449135</td>\n",
       "      <td>0.583375</td>\n",
       "      <td>0.371192</td>\n",
       "      <td>0.423699</td>\n",
       "      <td>-0.532449</td>\n",
       "    </tr>\n",
       "    <tr>\n",
       "      <th>ShotsPerGame</th>\n",
       "      <td>0.888800</td>\n",
       "      <td>0.134721</td>\n",
       "      <td>0.950757</td>\n",
       "      <td>1.000000</td>\n",
       "      <td>0.308391</td>\n",
       "      <td>0.382524</td>\n",
       "      <td>-0.435429</td>\n",
       "      <td>0.610986</td>\n",
       "      <td>0.352322</td>\n",
       "      <td>0.455255</td>\n",
       "      <td>-0.531522</td>\n",
       "    </tr>\n",
       "    <tr>\n",
       "      <th>AgentCharges</th>\n",
       "      <td>0.250865</td>\n",
       "      <td>0.131973</td>\n",
       "      <td>0.258240</td>\n",
       "      <td>0.308391</td>\n",
       "      <td>1.000000</td>\n",
       "      <td>0.302556</td>\n",
       "      <td>-0.108243</td>\n",
       "      <td>0.317581</td>\n",
       "      <td>0.123255</td>\n",
       "      <td>0.273686</td>\n",
       "      <td>-0.183386</td>\n",
       "    </tr>\n",
       "    <tr>\n",
       "      <th>BMI</th>\n",
       "      <td>0.299471</td>\n",
       "      <td>0.177032</td>\n",
       "      <td>0.320527</td>\n",
       "      <td>0.382524</td>\n",
       "      <td>0.302556</td>\n",
       "      <td>1.000000</td>\n",
       "      <td>0.321116</td>\n",
       "      <td>0.713858</td>\n",
       "      <td>0.337097</td>\n",
       "      <td>0.845955</td>\n",
       "      <td>0.187558</td>\n",
       "    </tr>\n",
       "    <tr>\n",
       "      <th>Cost</th>\n",
       "      <td>-0.403004</td>\n",
       "      <td>0.137131</td>\n",
       "      <td>-0.449135</td>\n",
       "      <td>-0.435429</td>\n",
       "      <td>-0.108243</td>\n",
       "      <td>0.321116</td>\n",
       "      <td>1.000000</td>\n",
       "      <td>-0.207749</td>\n",
       "      <td>-0.071253</td>\n",
       "      <td>0.154227</td>\n",
       "      <td>0.963017</td>\n",
       "    </tr>\n",
       "    <tr>\n",
       "      <th>PreviousClubCost</th>\n",
       "      <td>0.550975</td>\n",
       "      <td>0.102734</td>\n",
       "      <td>0.583375</td>\n",
       "      <td>0.610986</td>\n",
       "      <td>0.317581</td>\n",
       "      <td>0.713858</td>\n",
       "      <td>-0.207749</td>\n",
       "      <td>1.000000</td>\n",
       "      <td>0.802119</td>\n",
       "      <td>0.930904</td>\n",
       "      <td>-0.361850</td>\n",
       "    </tr>\n",
       "    <tr>\n",
       "      <th>Height</th>\n",
       "      <td>0.358854</td>\n",
       "      <td>0.076958</td>\n",
       "      <td>0.371192</td>\n",
       "      <td>0.352322</td>\n",
       "      <td>0.123255</td>\n",
       "      <td>0.337097</td>\n",
       "      <td>-0.071253</td>\n",
       "      <td>0.802119</td>\n",
       "      <td>1.000000</td>\n",
       "      <td>0.780906</td>\n",
       "      <td>-0.188022</td>\n",
       "    </tr>\n",
       "    <tr>\n",
       "      <th>Weight</th>\n",
       "      <td>0.403743</td>\n",
       "      <td>0.155844</td>\n",
       "      <td>0.423699</td>\n",
       "      <td>0.455255</td>\n",
       "      <td>0.273686</td>\n",
       "      <td>0.845955</td>\n",
       "      <td>0.154227</td>\n",
       "      <td>0.930904</td>\n",
       "      <td>0.780906</td>\n",
       "      <td>1.000000</td>\n",
       "      <td>-0.000162</td>\n",
       "    </tr>\n",
       "    <tr>\n",
       "      <th>Score</th>\n",
       "      <td>-0.493512</td>\n",
       "      <td>0.108114</td>\n",
       "      <td>-0.532449</td>\n",
       "      <td>-0.531522</td>\n",
       "      <td>-0.183386</td>\n",
       "      <td>0.187558</td>\n",
       "      <td>0.963017</td>\n",
       "      <td>-0.361850</td>\n",
       "      <td>-0.188022</td>\n",
       "      <td>-0.000162</td>\n",
       "      <td>1.000000</td>\n",
       "    </tr>\n",
       "  </tbody>\n",
       "</table>\n",
       "</div>"
      ],
      "text/plain": [
       "                        DistanceCovered(InKms)     Goals  MinutestoGoalRatio  \\\n",
       "DistanceCovered(InKms)                1.000000  0.147098            0.924964   \n",
       "Goals                                 0.147098  1.000000            0.153333   \n",
       "MinutestoGoalRatio                    0.924964  0.153333            1.000000   \n",
       "ShotsPerGame                          0.888800  0.134721            0.950757   \n",
       "AgentCharges                          0.250865  0.131973            0.258240   \n",
       "BMI                                   0.299471  0.177032            0.320527   \n",
       "Cost                                 -0.403004  0.137131           -0.449135   \n",
       "PreviousClubCost                      0.550975  0.102734            0.583375   \n",
       "Height                                0.358854  0.076958            0.371192   \n",
       "Weight                                0.403743  0.155844            0.423699   \n",
       "Score                                -0.493512  0.108114           -0.532449   \n",
       "\n",
       "                        ShotsPerGame  AgentCharges       BMI      Cost  \\\n",
       "DistanceCovered(InKms)      0.888800      0.250865  0.299471 -0.403004   \n",
       "Goals                       0.134721      0.131973  0.177032  0.137131   \n",
       "MinutestoGoalRatio          0.950757      0.258240  0.320527 -0.449135   \n",
       "ShotsPerGame                1.000000      0.308391  0.382524 -0.435429   \n",
       "AgentCharges                0.308391      1.000000  0.302556 -0.108243   \n",
       "BMI                         0.382524      0.302556  1.000000  0.321116   \n",
       "Cost                       -0.435429     -0.108243  0.321116  1.000000   \n",
       "PreviousClubCost            0.610986      0.317581  0.713858 -0.207749   \n",
       "Height                      0.352322      0.123255  0.337097 -0.071253   \n",
       "Weight                      0.455255      0.273686  0.845955  0.154227   \n",
       "Score                      -0.531522     -0.183386  0.187558  0.963017   \n",
       "\n",
       "                        PreviousClubCost    Height    Weight     Score  \n",
       "DistanceCovered(InKms)          0.550975  0.358854  0.403743 -0.493512  \n",
       "Goals                           0.102734  0.076958  0.155844  0.108114  \n",
       "MinutestoGoalRatio              0.583375  0.371192  0.423699 -0.532449  \n",
       "ShotsPerGame                    0.610986  0.352322  0.455255 -0.531522  \n",
       "AgentCharges                    0.317581  0.123255  0.273686 -0.183386  \n",
       "BMI                             0.713858  0.337097  0.845955  0.187558  \n",
       "Cost                           -0.207749 -0.071253  0.154227  0.963017  \n",
       "PreviousClubCost                1.000000  0.802119  0.930904 -0.361850  \n",
       "Height                          0.802119  1.000000  0.780906 -0.188022  \n",
       "Weight                          0.930904  0.780906  1.000000 -0.000162  \n",
       "Score                          -0.361850 -0.188022 -0.000162  1.000000  "
      ]
     },
     "execution_count": 54,
     "metadata": {},
     "output_type": "execute_result"
    }
   ],
   "source": [
    "df.corr()"
   ]
  },
  {
   "cell_type": "markdown",
   "metadata": {},
   "source": [
    "### Cost seems most correlated to the score lets use this to predict the score\n"
   ]
  },
  {
   "cell_type": "code",
   "execution_count": 65,
   "metadata": {},
   "outputs": [
    {
     "data": {
      "image/png": "[encoded data removed]",
      "text/plain": [
       "<Figure size 432x288 with 1 Axes>"
      ]
     },
     "metadata": {
      "needs_background": "light"
     },
     "output_type": "display_data"
    }
   ],
   "source": [
    "plt.scatter(df['Cost'],df['Score'])\n",
    "plt.show()"
   ]
  },
  {
   "cell_type": "code",
   "execution_count": 67,
   "metadata": {},
   "outputs": [],
   "source": [
    "X = df['Cost']\n",
    "y = df['Score']\n",
    "\n",
    "X_train,X_test,y_train,y_test = train_test_split(X,y,train_size=0.75,test_size=0.25,random_state=42)"
   ]
  },
  {
   "cell_type": "code",
   "execution_count": 68,
   "metadata": {},
   "outputs": [],
   "source": [
    "lr = sn.OLS(y_train,X_train).fit()"
   ]
  },
  {
   "cell_type": "code",
   "execution_count": 69,
   "metadata": {},
   "outputs": [
    {
     "data": {
      "text/plain": [
       "Cost    0.192712\n",
       "dtype: float64"
      ]
     },
     "execution_count": 69,
     "metadata": {},
     "output_type": "execute_result"
    }
   ],
   "source": [
    "lr.params"
   ]
  },
  {
   "cell_type": "code",
   "execution_count": 70,
   "metadata": {},
   "outputs": [
    {
     "data": {
      "text/html": [
       "<table class=\"simpletable\">\n",
       "<caption>OLS Regression Results</caption>\n",
       "<tr>\n",
       "  <th>Dep. Variable:</th>          <td>Score</td>      <th>  R-squared (uncentered):</th>      <td>   0.987</td> \n",
       "</tr>\n",
       "<tr>\n",
       "  <th>Model:</th>                   <td>OLS</td>       <th>  Adj. R-squared (uncentered):</th> <td>   0.987</td> \n",
       "</tr>\n",
       "<tr>\n",
       "  <th>Method:</th>             <td>Least Squares</td>  <th>  F-statistic:       </th>          <td>1.136e+04</td>\n",
       "</tr>\n",
       "<tr>\n",
       "  <th>Date:</th>             <td>Mon, 07 Aug 2023</td> <th>  Prob (F-statistic):</th>          <td>2.80e-143</td>\n",
       "</tr>\n",
       "<tr>\n",
       "  <th>Time:</th>                 <td>01:14:40</td>     <th>  Log-Likelihood:    </th>          <td> -294.44</td> \n",
       "</tr>\n",
       "<tr>\n",
       "  <th>No. Observations:</th>      <td>   151</td>      <th>  AIC:               </th>          <td>   590.9</td> \n",
       "</tr>\n",
       "<tr>\n",
       "  <th>Df Residuals:</th>          <td>   150</td>      <th>  BIC:               </th>          <td>   593.9</td> \n",
       "</tr>\n",
       "<tr>\n",
       "  <th>Df Model:</th>              <td>     1</td>      <th>                     </th>              <td> </td>    \n",
       "</tr>\n",
       "<tr>\n",
       "  <th>Covariance Type:</th>      <td>nonrobust</td>    <th>                     </th>              <td> </td>    \n",
       "</tr>\n",
       "</table>\n",
       "<table class=\"simpletable\">\n",
       "<tr>\n",
       "    <td></td>      <th>coef</th>     <th>std err</th>      <th>t</th>      <th>P>|t|</th>  <th>[0.025</th>    <th>0.975]</th>  \n",
       "</tr>\n",
       "<tr>\n",
       "  <th>Cost</th> <td>    0.1927</td> <td>    0.002</td> <td>  106.576</td> <td> 0.000</td> <td>    0.189</td> <td>    0.196</td>\n",
       "</tr>\n",
       "</table>\n",
       "<table class=\"simpletable\">\n",
       "<tr>\n",
       "  <th>Omnibus:</th>       <td> 1.721</td> <th>  Durbin-Watson:     </th> <td>   1.944</td>\n",
       "</tr>\n",
       "<tr>\n",
       "  <th>Prob(Omnibus):</th> <td> 0.423</td> <th>  Jarque-Bera (JB):  </th> <td>   1.391</td>\n",
       "</tr>\n",
       "<tr>\n",
       "  <th>Skew:</th>          <td>-0.014</td> <th>  Prob(JB):          </th> <td>   0.499</td>\n",
       "</tr>\n",
       "<tr>\n",
       "  <th>Kurtosis:</th>      <td> 3.469</td> <th>  Cond. No.          </th> <td>    1.00</td>\n",
       "</tr>\n",
       "</table><br/><br/>Notes:<br/>[1] R² is computed without centering (uncentered) since the model does not contain a constant.<br/>[2] Standard Errors assume that the covariance matrix of the errors is correctly specified."
      ],
      "text/plain": [
       "<class 'statsmodels.iolib.summary.Summary'>\n",
       "\"\"\"\n",
       "                                 OLS Regression Results                                \n",
       "=======================================================================================\n",
       "Dep. Variable:                  Score   R-squared (uncentered):                   0.987\n",
       "Model:                            OLS   Adj. R-squared (uncentered):              0.987\n",
       "Method:                 Least Squares   F-statistic:                          1.136e+04\n",
       "Date:                Mon, 07 Aug 2023   Prob (F-statistic):                   2.80e-143\n",
       "Time:                        01:14:40   Log-Likelihood:                         -294.44\n",
       "No. Observations:                 151   AIC:                                      590.9\n",
       "Df Residuals:                     150   BIC:                                      593.9\n",
       "Df Model:                           1                                                  \n",
       "Covariance Type:            nonrobust                                                  \n",
       "==============================================================================\n",
       "                 coef    std err          t      P>|t|      [0.025      0.975]\n",
       "------------------------------------------------------------------------------\n",
       "Cost           0.1927      0.002    106.576      0.000       0.189       0.196\n",
       "==============================================================================\n",
       "Omnibus:                        1.721   Durbin-Watson:                   1.944\n",
       "Prob(Omnibus):                  0.423   Jarque-Bera (JB):                1.391\n",
       "Skew:                          -0.014   Prob(JB):                        0.499\n",
       "Kurtosis:                       3.469   Cond. No.                         1.00\n",
       "==============================================================================\n",
       "\n",
       "Notes:\n",
       "[1] R² is computed without centering (uncentered) since the model does not contain a constant.\n",
       "[2] Standard Errors assume that the covariance matrix of the errors is correctly specified.\n",
       "\"\"\""
      ]
     },
     "execution_count": 70,
     "metadata": {},
     "output_type": "execute_result"
    }
   ],
   "source": [
    "lr.summary()"
   ]
  },
  {
   "cell_type": "code",
   "execution_count": 71,
   "metadata": {},
   "outputs": [
    {
     "name": "stderr",
     "output_type": "stream",
     "text": [
      "/Users/abhilashkollikonda/anaconda3/lib/python3.8/site-packages/statsmodels/tsa/tsatools.py:142: FutureWarning: In a future version of pandas all arguments of concat except for the argument 'objs' will be keyword-only\n",
      "  x = pd.concat(x[::order], 1)\n"
     ]
    },
    {
     "data": {
      "text/html": [
       "<table class=\"simpletable\">\n",
       "<caption>OLS Regression Results</caption>\n",
       "<tr>\n",
       "  <th>Dep. Variable:</th>          <td>Score</td>      <th>  R-squared:         </th> <td>   0.929</td>\n",
       "</tr>\n",
       "<tr>\n",
       "  <th>Model:</th>                   <td>OLS</td>       <th>  Adj. R-squared:    </th> <td>   0.928</td>\n",
       "</tr>\n",
       "<tr>\n",
       "  <th>Method:</th>             <td>Least Squares</td>  <th>  F-statistic:       </th> <td>   1936.</td>\n",
       "</tr>\n",
       "<tr>\n",
       "  <th>Date:</th>             <td>Mon, 07 Aug 2023</td> <th>  Prob (F-statistic):</th> <td>2.89e-87</td>\n",
       "</tr>\n",
       "<tr>\n",
       "  <th>Time:</th>                 <td>01:14:47</td>     <th>  Log-Likelihood:    </th> <td> -291.39</td>\n",
       "</tr>\n",
       "<tr>\n",
       "  <th>No. Observations:</th>      <td>   151</td>      <th>  AIC:               </th> <td>   586.8</td>\n",
       "</tr>\n",
       "<tr>\n",
       "  <th>Df Residuals:</th>          <td>   149</td>      <th>  BIC:               </th> <td>   592.8</td>\n",
       "</tr>\n",
       "<tr>\n",
       "  <th>Df Model:</th>              <td>     1</td>      <th>                     </th>     <td> </td>   \n",
       "</tr>\n",
       "<tr>\n",
       "  <th>Covariance Type:</th>      <td>nonrobust</td>    <th>                     </th>     <td> </td>   \n",
       "</tr>\n",
       "</table>\n",
       "<table class=\"simpletable\">\n",
       "<tr>\n",
       "    <td></td>       <th>coef</th>     <th>std err</th>      <th>t</th>      <th>P>|t|</th>  <th>[0.025</th>    <th>0.975]</th>  \n",
       "</tr>\n",
       "<tr>\n",
       "  <th>const</th> <td>    0.7921</td> <td>    0.320</td> <td>    2.475</td> <td> 0.014</td> <td>    0.160</td> <td>    1.424</td>\n",
       "</tr>\n",
       "<tr>\n",
       "  <th>Cost</th>  <td>    0.1834</td> <td>    0.004</td> <td>   43.999</td> <td> 0.000</td> <td>    0.175</td> <td>    0.192</td>\n",
       "</tr>\n",
       "</table>\n",
       "<table class=\"simpletable\">\n",
       "<tr>\n",
       "  <th>Omnibus:</th>       <td> 3.472</td> <th>  Durbin-Watson:     </th> <td>   1.934</td>\n",
       "</tr>\n",
       "<tr>\n",
       "  <th>Prob(Omnibus):</th> <td> 0.176</td> <th>  Jarque-Bera (JB):  </th> <td>   3.165</td>\n",
       "</tr>\n",
       "<tr>\n",
       "  <th>Skew:</th>          <td> 0.352</td> <th>  Prob(JB):          </th> <td>   0.205</td>\n",
       "</tr>\n",
       "<tr>\n",
       "  <th>Kurtosis:</th>      <td> 3.083</td> <th>  Cond. No.          </th> <td>    180.</td>\n",
       "</tr>\n",
       "</table><br/><br/>Notes:<br/>[1] Standard Errors assume that the covariance matrix of the errors is correctly specified."
      ],
      "text/plain": [
       "<class 'statsmodels.iolib.summary.Summary'>\n",
       "\"\"\"\n",
       "                            OLS Regression Results                            \n",
       "==============================================================================\n",
       "Dep. Variable:                  Score   R-squared:                       0.929\n",
       "Model:                            OLS   Adj. R-squared:                  0.928\n",
       "Method:                 Least Squares   F-statistic:                     1936.\n",
       "Date:                Mon, 07 Aug 2023   Prob (F-statistic):           2.89e-87\n",
       "Time:                        01:14:47   Log-Likelihood:                -291.39\n",
       "No. Observations:                 151   AIC:                             586.8\n",
       "Df Residuals:                     149   BIC:                             592.8\n",
       "Df Model:                           1                                         \n",
       "Covariance Type:            nonrobust                                         \n",
       "==============================================================================\n",
       "                 coef    std err          t      P>|t|      [0.025      0.975]\n",
       "------------------------------------------------------------------------------\n",
       "const          0.7921      0.320      2.475      0.014       0.160       1.424\n",
       "Cost           0.1834      0.004     43.999      0.000       0.175       0.192\n",
       "==============================================================================\n",
       "Omnibus:                        3.472   Durbin-Watson:                   1.934\n",
       "Prob(Omnibus):                  0.176   Jarque-Bera (JB):                3.165\n",
       "Skew:                           0.352   Prob(JB):                        0.205\n",
       "Kurtosis:                       3.083   Cond. No.                         180.\n",
       "==============================================================================\n",
       "\n",
       "Notes:\n",
       "[1] Standard Errors assume that the covariance matrix of the errors is correctly specified.\n",
       "\"\"\""
      ]
     },
     "execution_count": 71,
     "metadata": {},
     "output_type": "execute_result"
    }
   ],
   "source": [
    "X_train_with_intercept = sn.add_constant(X_train)\n",
    "lr_1 = sn.OLS(y_train,X_train_with_intercept).fit()\n",
    "\n",
    "lr_1.summary()"
   ]
  },
  {
   "cell_type": "code",
   "execution_count": 72,
   "metadata": {},
   "outputs": [
    {
     "name": "stdout",
     "output_type": "stream",
     "text": [
      "const    0.792082\n",
      "Cost     0.183383\n",
      "dtype: float64\n"
     ]
    }
   ],
   "source": [
    "b0 = lr_1.params[0]\n",
    "b1 = lr_1.params[1]\n",
    "print(lr_1.params)"
   ]
  },
  {
   "cell_type": "code",
   "execution_count": 77,
   "metadata": {},
   "outputs": [
    {
     "data": {
      "image/png": "[encoded data removed]",
      "text/plain": [
       "<Figure size 432x288 with 1 Axes>"
      ]
     },
     "metadata": {
      "needs_background": "light"
     },
     "output_type": "display_data"
    }
   ],
   "source": [
    "plt.scatter(X_train,y_train)\n",
    "\n",
    "plt.plot(X_train,b0+b1*X_train,'r')\n",
    "\n",
    "plt.show()"
   ]
  },
  {
   "cell_type": "code",
   "execution_count": 78,
   "metadata": {},
   "outputs": [
    {
     "name": "stderr",
     "output_type": "stream",
     "text": [
      "/Users/abhilashkollikonda/anaconda3/lib/python3.8/site-packages/statsmodels/tsa/tsatools.py:142: FutureWarning: In a future version of pandas all arguments of concat except for the argument 'objs' will be keyword-only\n",
      "  x = pd.concat(x[::order], 1)\n"
     ]
    }
   ],
   "source": [
    "X_test_with_intercept = sn.add_constant(X_test)\n",
    "y_test_fitted = lr_1.predict(X_test_with_intercept)"
   ]
  },
  {
   "cell_type": "code",
   "execution_count": 79,
   "metadata": {},
   "outputs": [
    {
     "data": {
      "image/png": "[encoded data removed]",
      "text/plain": [
       "<Figure size 432x288 with 1 Axes>"
      ]
     },
     "metadata": {
      "needs_background": "light"
     },
     "output_type": "display_data"
    }
   ],
   "source": [
    "plt.scatter(X_test,y_test)\n",
    "\n",
    "plt.plot(X_test,y_test_fitted,'r')\n",
    "\n",
    "plt.show()"
   ]
  },
  {
   "cell_type": "markdown",
   "metadata": {},
   "source": [
    "#### Residual Analysis"
   ]
  },
  {
   "cell_type": "markdown",
   "metadata": {},
   "source": [
    "\t\n",
    "\t1) Non linearity\n",
    "\t2) Hetero skedacitiy - Non constant variance\n",
    "\t3) Deviation from Normality\n",
    "\t3) Errors are not IID\n",
    "\t4) Outliers \n",
    "    5) Missing predictor variable"
   ]
  },
  {
   "cell_type": "code",
   "execution_count": 81,
   "metadata": {},
   "outputs": [],
   "source": [
    "pred_y = lr_1.predict(X_train_with_intercept)"
   ]
  },
  {
   "cell_type": "code",
   "execution_count": 83,
   "metadata": {},
   "outputs": [],
   "source": [
    "# Find residuals\n",
    "\n",
    "r_i = (y_train - pred_y)"
   ]
  },
  {
   "cell_type": "code",
   "execution_count": 84,
   "metadata": {},
   "outputs": [
    {
     "data": {
      "image/png": "[encoded data removed]",
      "text/plain": [
       "<Figure size 432x288 with 1 Axes>"
      ]
     },
     "metadata": {
      "needs_background": "light"
     },
     "output_type": "display_data"
    }
   ],
   "source": [
    "plt.title(\"Residuals vs cost\")\n",
    "\n",
    "plt.xlabel(\"Cost\",fontsize = 15)\n",
    "\n",
    "plt.scatter(X_train,r_i)\n",
    "\n",
    "plt.show()"
   ]
  },
  {
   "cell_type": "code",
   "execution_count": 87,
   "metadata": {},
   "outputs": [
    {
     "data": {
      "text/plain": [
       "((array([-2.60603471, -2.28639722, -2.10324767, -1.97158309, -1.867224  ,\n",
       "         -1.7799545 , -1.70445293, -1.63757876, -1.57731662, -1.52229259,\n",
       "         -1.47152616, -1.42429196, -1.3800376 , -1.33833223, -1.29883298,\n",
       "         -1.26126233, -1.22539231, -1.19103324, -1.1580255 , -1.12623343,\n",
       "         -1.09554071, -1.06584677, -1.03706405, -1.0091158 , -0.98193434,\n",
       "         -0.95545967, -0.92963831, -0.90442237, -0.87976879, -0.85563868,\n",
       "         -0.83199678, -0.80881102, -0.78605212, -0.76369328, -0.74170987,\n",
       "         -0.7200792 , -0.69878032, -0.67779383, -0.65710172, -0.6366872 ,\n",
       "         -0.61653466, -0.59662946, -0.57695791, -0.55750713, -0.53826504,\n",
       "         -0.51922023, -0.50036191, -0.48167989, -0.4631645 , -0.44480656,\n",
       "         -0.42659733, -0.40852846, -0.39059201, -0.37278035, -0.35508619,\n",
       "         -0.33750252, -0.32002258, -0.3026399 , -0.28534819, -0.26814138,\n",
       "         -0.25101361, -0.23395916, -0.2169725 , -0.20004822, -0.18318105,\n",
       "         -0.16636584, -0.14959754, -0.1328712 , -0.11618195, -0.09952501,\n",
       "         -0.08289563, -0.06628915, -0.04970093, -0.03312637, -0.01656091,\n",
       "          0.        ,  0.01656091,  0.03312637,  0.04970093,  0.06628915,\n",
       "          0.08289563,  0.09952501,  0.11618195,  0.1328712 ,  0.14959754,\n",
       "          0.16636584,  0.18318105,  0.20004822,  0.2169725 ,  0.23395916,\n",
       "          0.25101361,  0.26814138,  0.28534819,  0.3026399 ,  0.32002258,\n",
       "          0.33750252,  0.35508619,  0.37278035,  0.39059201,  0.40852846,\n",
       "          0.42659733,  0.44480656,  0.4631645 ,  0.48167989,  0.50036191,\n",
       "          0.51922023,  0.53826504,  0.55750713,  0.57695791,  0.59662946,\n",
       "          0.61653466,  0.6366872 ,  0.65710172,  0.67779383,  0.69878032,\n",
       "          0.7200792 ,  0.74170987,  0.76369328,  0.78605212,  0.80881102,\n",
       "          0.83199678,  0.85563868,  0.87976879,  0.90442237,  0.92963831,\n",
       "          0.95545967,  0.98193434,  1.0091158 ,  1.03706405,  1.06584677,\n",
       "          1.09554071,  1.12623343,  1.1580255 ,  1.19103324,  1.22539231,\n",
       "          1.26126233,  1.29883298,  1.33833223,  1.3800376 ,  1.42429196,\n",
       "          1.47152616,  1.52229259,  1.57731662,  1.63757876,  1.70445293,\n",
       "          1.7799545 ,  1.867224  ,  1.97158309,  2.10324767,  2.28639722,\n",
       "          2.60603471]),\n",
       "  array([-4.19603177, -4.01273978, -3.37511052, -3.33888194, -3.14594182,\n",
       "         -3.00983111, -2.93983111, -2.56481451, -2.04784105, -2.0449027 ,\n",
       "         -1.9988793 , -1.97027557, -1.88798862, -1.84300346, -1.7817277 ,\n",
       "         -1.69330036, -1.66893779, -1.63469487, -1.61754328, -1.60389326,\n",
       "         -1.59810738, -1.56626752, -1.51092609, -1.48514021, -1.43252843,\n",
       "         -1.40424953, -1.40208486, -1.35626752, -1.31822613, -1.31778343,\n",
       "         -1.2674839 , -1.25917531, -1.24246906, -1.21700975, -1.1394722 ,\n",
       "         -1.12327067, -1.10321129, -1.07469487, -1.0681982 , -1.04914738,\n",
       "         -1.04698006, -1.03321129, -1.00564581, -0.94424953, -0.93214247,\n",
       "         -0.92410109, -0.91255812, -0.90715996, -0.89953158, -0.81451673,\n",
       "         -0.8120831 , -0.78715732, -0.78128237, -0.7774839 , -0.76727608,\n",
       "         -0.75525809, -0.68778079, -0.65211278, -0.62365575, -0.55878935,\n",
       "         -0.54694949, -0.5406292 , -0.53421984, -0.53054189, -0.50988873,\n",
       "         -0.4826175 , -0.48187703, -0.45751623, -0.440362  , -0.43709794,\n",
       "         -0.4120831 , -0.37929407, -0.32786986, -0.31167009, -0.27531746,\n",
       "         -0.21380419, -0.18054189, -0.14712763, -0.13855183, -0.13383564,\n",
       "         -0.12680105, -0.09392471, -0.07312398, -0.05279564, -0.03917619,\n",
       "          0.0077082 ,  0.02714498,  0.05106221,  0.07138879,  0.0791909 ,\n",
       "          0.11524575,  0.1439403 ,  0.15310812,  0.19319719,  0.2513591 ,\n",
       "          0.26815266,  0.32417694,  0.37678783,  0.4073825 ,  0.41141848,\n",
       "          0.45313869,  0.46417782,  0.65272304,  0.66521606,  0.67919266,\n",
       "          0.69088407,  0.73227771,  0.77652151,  0.81218952,  0.85806359,\n",
       "          0.90396999,  0.90542213,  0.92429481,  0.96384948,  0.99753006,\n",
       "          0.99832991,  1.24471046,  1.34177387,  1.35521606,  1.3811207 ,\n",
       "          1.39076531,  1.45729343,  1.49726286,  1.51215983,  1.65616436,\n",
       "          1.71723405,  1.72008158,  1.73895427,  1.76198169,  1.85254491,\n",
       "          1.86666996,  1.99227771,  1.99287149,  2.08922147,  2.12227771,\n",
       "          2.27684721,  2.53408699,  2.62183325,  2.82749949,  2.91340502,\n",
       "          3.12126915,  3.12563171,  3.20411756,  3.20693628,  3.227441  ,\n",
       "          3.3371441 ,  3.38586835,  3.59744012,  3.68474015,  4.25913152,\n",
       "          4.42945899])),\n",
       " (1.6725666584774312, 1.6786015301390127e-15, 0.9893310233855991))"
      ]
     },
     "execution_count": 87,
     "metadata": {},
     "output_type": "execute_result"
    },
    {
     "data": {
      "image/png": "[encoded data removed]",
      "text/plain": [
       "<Figure size 432x288 with 1 Axes>"
      ]
     },
     "metadata": {
      "needs_background": "light"
     },
     "output_type": "display_data"
    }
   ],
   "source": [
    "scipy.stats.probplot(r_i,plot = plt)"
   ]
  },
  {
   "cell_type": "code",
   "execution_count": 93,
   "metadata": {},
   "outputs": [
    {
     "name": "stderr",
     "output_type": "stream",
     "text": [
      "/Users/abhilashkollikonda/anaconda3/lib/python3.8/site-packages/seaborn/distributions.py:2619: FutureWarning: `distplot` is a deprecated function and will be removed in a future version. Please adapt your code to use either `displot` (a figure-level function with similar flexibility) or `histplot` (an axes-level function for histograms).\n",
      "  warnings.warn(msg, FutureWarning)\n"
     ]
    },
    {
     "data": {
      "image/png": "[encoded data removed]",
      "text/plain": [
       "<Figure size 432x288 with 1 Axes>"
      ]
     },
     "metadata": {
      "needs_background": "light"
     },
     "output_type": "display_data"
    }
   ],
   "source": [
    "import seaborn as sns\n",
    "\n",
    "sns.distplot(r_i,bins = 15)\n",
    "\n",
    "plt.title(\"Error Terms\")\n",
    "\n",
    "plt.xlabel(\"y_train  - pred_y\")\n",
    "\n",
    "\n",
    "plt.show()"
   ]
  },
  {
   "cell_type": "code",
   "execution_count": 96,
   "metadata": {},
   "outputs": [
    {
     "data": {
      "text/plain": [
       "Text(0.5, 1.0, 'Residual box plot')"
      ]
     },
     "execution_count": 96,
     "metadata": {},
     "output_type": "execute_result"
    },
    {
     "data": {
      "image/png": "[encoded data removed]",
      "text/plain": [
       "<Figure size 432x288 with 1 Axes>"
      ]
     },
     "metadata": {
      "needs_background": "light"
     },
     "output_type": "display_data"
    }
   ],
   "source": [
    "plt.boxplot(r_i,boxprops=dict(color=  'red'))\n",
    "plt.title(\"Residual box plot\")"
   ]
  },
  {
   "cell_type": "code",
   "execution_count": null,
   "metadata": {},
   "outputs": [],
   "source": []
  }
 ],
 "metadata": {
  "kernelspec": {
   "display_name": "Python 3",
   "language": "python",
   "name": "python3"
  },
  "language_info": {
   "codemirror_mode": {
    "name": "ipython",
    "version": 3
   },
   "file_extension": ".py",
   "mimetype": "text/x-python",
   "name": "python",
   "nbconvert_exporter": "python",
   "pygments_lexer": "ipython3",
   "version": "3.8.3"
  },
  "orig_nbformat": 4
 },
 "nbformat": 4,
 "nbformat_minor": 2
}
